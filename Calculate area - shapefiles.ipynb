{
 "cells": [
  {
   "cell_type": "markdown",
   "metadata": {},
   "source": [
    "# Work with shapefiles/ feature classes in ArcPy\n"
   ]
  },
  {
   "cell_type": "markdown",
   "metadata": {},
   "source": [
    "Sometimes, you may need to work 100s of shapefiles and it may feel redundant to work one by one. In this \n",
    "notebook, we are going to add a new area field into the attribute table of multiple polygon shapefiles.\n",
    "The area field will be for acres per polygon shapefile. You only need to change the path that includes \n",
    "your shapefiles.\n"
   ]
  },
  {
   "cell_type": "code",
   "execution_count": null,
   "metadata": {},
   "outputs": [],
   "source": [
    "import arcpy\n",
    "\n",
    "def calculateArea_Acres(path):\n",
    "    # path which includes target feature classes, change only this path for your target path\n",
    "    arcpy.env.workspace = path \n",
    "    # For loop for calculating geometry\n",
    "    for fc in arcpy.ListFeatureClasses():\n",
    "        # adding a new field into each shapefile in the workspace path\n",
    "        arcpy.AddField_management(fc, \"Area_ac\", \"DOUBLE\", field_length = 50)\n",
    "        # Calculate area in acres for each feature class\n",
    "        exp = \"!shape.area@acres!\"\n",
    "        # Do not remove \"PYTHON_9.3\" as it would not work if you do so\n",
    "        arcpy.CalculateField_management(fc, \"Area_ac\", exp,\"PYTHON_9.3\")\n",
    "\n",
    "# Run the defined function of calculateArea_Acres()\n",
    "try:\n",
    "    path = r'C:\\users\\your_path\\originals\\Field Boundaries\\Shapefiles_geodatabase.gdb' # this could be a folder too\n",
    "    calculateArea_Acres(path)\n",
    "except:\n",
    "    pass\n",
    "finally:\n",
    "    print(\"Done\")"
   ]
  }
 ],
 "metadata": {
  "kernelspec": {
   "display_name": "Python 3",
   "language": "python",
   "name": "python3"
  },
  "language_info": {
   "codemirror_mode": {
    "name": "ipython",
    "version": 3
   },
   "file_extension": ".py",
   "mimetype": "text/x-python",
   "name": "python",
   "nbconvert_exporter": "python",
   "pygments_lexer": "ipython3",
   "version": "3.7.6"
  }
 },
 "nbformat": 4,
 "nbformat_minor": 4
}
