{
 "cells": [
  {
   "cell_type": "markdown",
   "metadata": {},
   "source": [
    "# Composite Bands (ArcPy)"
   ]
  },
  {
   "cell_type": "markdown",
   "metadata": {},
   "source": [
    "GIS is capable of analyzing high-dimentional raster bands to recognize complex patterns in imagery. In this example, I showed how you can composite/ stack single band raster files into a stacked image for further analysis in an automated fashion. Only add your folder containing raster input bands and output folder that the stacked output will be written."
   ]
  },
  {
   "cell_type": "code",
   "execution_count": null,
   "metadata": {},
   "outputs": [],
   "source": [
    "# Import modules\n",
    "import arcpy, os, time\n",
    "arcpy.CheckOutExtension(\"Spatial\") \n",
    "\n",
    "time.clock() # timer for the process!\n",
    "\n",
    "## Path and workspace for the images desired to be composited\n",
    "path = r\"C:\\Users\\151572\\Raster_folder\\Input\" # your folder to raster files to be stacked\n",
    "\n",
    "# set up environments\n",
    "sr = arcpy.SpatialReference(32615) ## SPATIAL REFERENCE (epsg): search for your epsg https://spatialreference.org/\n",
    "arcpy.env.scratchWorkspace = 'in_memory'\n",
    "arcpy.env.overwriteOutput = True\n",
    "\n",
    "### Find the bands 2, 3, 4, and 8 in the workspace/ path and put them in a list called raster_list\n",
    "raster_list =[]  ##empth list to fill with the rasters that suit with the creterion below\n",
    "for root, dirs, files in os.walk(path):\n",
    "    for f in files:\n",
    "        if f.endswith(\"B02.tif\") or f.endswith(\"B03.tif\") or f.endswith(\"B04.tif\") or f.endswith(\"B08.tif\"): # you can filter specific raster files that ends with certain characters in their name.\n",
    "            raster_list.append(os.path.join(root, f))\n",
    "            print (os.path.join(root, f))\n",
    "            \n",
    "## Execute composite bands\n",
    "ras_list = \";\".join(raster_list) ## join rasters\n",
    "output = r\"C:\\Users\\151572\\Raster_folder\\Output\"\n",
    "arcpy.CompositeBands_management(ras_list, output)\n",
    "\n",
    "\n",
    "print(time.clock()) # print how much time it took for you to stack all the raster files!\n",
    "\n",
    "\n",
    "\n",
    "\n"
   ]
  }
 ],
 "metadata": {
  "kernelspec": {
   "display_name": "Python 3",
   "language": "python",
   "name": "python3"
  },
  "language_info": {
   "codemirror_mode": {
    "name": "ipython",
    "version": 3
   },
   "file_extension": ".py",
   "mimetype": "text/x-python",
   "name": "python",
   "nbconvert_exporter": "python",
   "pygments_lexer": "ipython3",
   "version": "3.7.6"
  }
 },
 "nbformat": 4,
 "nbformat_minor": 4
}
