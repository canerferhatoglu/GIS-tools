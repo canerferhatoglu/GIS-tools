{
 "cells": [
  {
   "cell_type": "markdown",
   "id": "f2f0f0c8",
   "metadata": {},
   "source": [
    "# Resample (ArcPy)"
   ]
  },
  {
   "cell_type": "markdown",
   "id": "8d8dbd08",
   "metadata": {},
   "source": [
    "This script resamples rasters in multiple folders to 3 mt pixel resolution and matches (snap raster) the pixels of each raster comparable to a specific raster file!"
   ]
  },
  {
   "cell_type": "code",
   "execution_count": null,
   "id": "48edcdb2",
   "metadata": {},
   "outputs": [],
   "source": [
    "# Modules\n",
    "import arcpy\n",
    "import os"
   ]
  },
  {
   "cell_type": "code",
   "execution_count": null,
   "id": "a7edf201",
   "metadata": {},
   "outputs": [],
   "source": [
    "# Raster folders: all the rasters in these folders will be resamples one by one\n",
    "Covariate_folders = [r\"raster folder 1\",\n",
    "                     r\"raster folder 2\",\n",
    "                     r\"raster folder 3\",\n",
    "                     r\"raster folder 4\",\n",
    "                     r\"raster folder 5\"]"
   ]
  },
  {
   "cell_type": "code",
   "execution_count": null,
   "id": "6c9aefb0",
   "metadata": {},
   "outputs": [],
   "source": [
    "out_path = r\"folder for the output resampled raster files\"\n",
    "for ws in Covariate_folders:\n",
    "    arcpy.env.workspace = ws\n",
    "    for raster in arcpy.ListRasters(\"*\", \"TIF\"): # Specify your raster file type (e.g., JPEG, PNG, and TIF)\n",
    "        out_cov = os.path.join(out_path,raster)\n",
    "        with arcpy.EnvManager(parallelProcessingFactor=\"100%\", snapRaster=r\"path of the raster we like other raster files' pixels to match with\"):\n",
    "            arcpy.management.Resample(in_raster=raster, out_raster= out_cov, cell_size=\"3.0 3.0\", resampling_type=\"NEAREST\")"
   ]
  }
 ],
 "metadata": {
  "kernelspec": {
   "display_name": "Python 3",
   "language": "python",
   "name": "python3"
  },
  "language_info": {
   "codemirror_mode": {
    "name": "ipython",
    "version": 3
   },
   "file_extension": ".py",
   "mimetype": "text/x-python",
   "name": "python",
   "nbconvert_exporter": "python",
   "pygments_lexer": "ipython3",
   "version": "3.8.8"
  }
 },
 "nbformat": 4,
 "nbformat_minor": 5
}
